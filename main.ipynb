{
 "cells": [
  {
   "cell_type": "code",
   "execution_count": 1,
   "id": "995d07be",
   "metadata": {
    "_cell_guid": "b1076dfc-b9ad-4769-8c92-a6c4dae69d19",
    "_uuid": "8f2839f25d086af736a60e9eeb907d3b93b6e0e5",
    "execution": {
     "iopub.execute_input": "2024-04-30T12:35:08.829130Z",
     "iopub.status.busy": "2024-04-30T12:35:08.828674Z",
     "iopub.status.idle": "2024-04-30T12:35:16.485835Z",
     "shell.execute_reply": "2024-04-30T12:35:16.484485Z"
    },
    "papermill": {
     "duration": 7.669224,
     "end_time": "2024-04-30T12:35:16.489101",
     "exception": false,
     "start_time": "2024-04-30T12:35:08.819877",
     "status": "completed"
    },
    "tags": []
   },
   "outputs": [],
   "source": [
    "#Imports\n",
    "import os\n",
    "import sys\n",
    "import glob\n",
    "import torch\n",
    "import torchvision\n",
    "\n",
    "import numpy    as np\n",
    "import datetime as dt\n",
    "import torch.nn as nn\n",
    "import torch.nn.functional as F\n",
    "import matplotlib.pyplot   as plt\n",
    "\n",
    "from PIL               import Image\n",
    "from torch.utils.data  import Dataset\n",
    "from torch.autograd    import Variable\n",
    "from torch.optim       import lr_scheduler\n",
    "\n",
    "from torch.utils.data  import Dataset, DataLoader\n",
    "from torch.utils.data.sampler import SubsetRandomSampler\n",
    "from torchvision       import transforms, datasets, models\n",
    "from os                import listdir, makedirs, getcwd, remove\n",
    "from os.path           import isfile, join, abspath, exists, isdir, expanduser\n",
    "\n",
    "\n",
    "%matplotlib inline"
   ]
  },
  {
   "cell_type": "code",
   "execution_count": 2,
   "id": "5db195b0",
   "metadata": {
    "execution": {
     "iopub.execute_input": "2024-04-30T12:35:16.505264Z",
     "iopub.status.busy": "2024-04-30T12:35:16.503830Z",
     "iopub.status.idle": "2024-04-30T12:35:16.511044Z",
     "shell.execute_reply": "2024-04-30T12:35:16.509676Z"
    },
    "papermill": {
     "duration": 0.01805,
     "end_time": "2024-04-30T12:35:16.513827",
     "exception": false,
     "start_time": "2024-04-30T12:35:16.495777",
     "status": "completed"
    },
    "tags": []
   },
   "outputs": [],
   "source": [
    "data_path = \"../input/ammi-2021-convnets/\"\n",
    "train_path = join(data_path, \"train/train\")\n",
    "test_path = join(data_path,\"test/test\")\n",
    "extraimage_path = join(data_path, \"extraimages/extraimages\")"
   ]
  },
  {
   "cell_type": "code",
   "execution_count": 3,
   "id": "0c47a78c",
   "metadata": {
    "execution": {
     "iopub.execute_input": "2024-04-30T12:35:16.529346Z",
     "iopub.status.busy": "2024-04-30T12:35:16.528835Z",
     "iopub.status.idle": "2024-04-30T12:35:16.538012Z",
     "shell.execute_reply": "2024-04-30T12:35:16.536597Z"
    },
    "papermill": {
     "duration": 0.020271,
     "end_time": "2024-04-30T12:35:16.540690",
     "exception": false,
     "start_time": "2024-04-30T12:35:16.520419",
     "status": "completed"
    },
    "tags": []
   },
   "outputs": [],
   "source": [
    "# Transformations for both the training and testing data\n",
    "mean=[0.485, 0.456, 0.406]\n",
    "std=[0.229, 0.224, 0.225]\n",
    "\n",
    "# Do data transforms here, Try many others\n",
    "train_transforms = transforms.Compose([transforms.RandomRotation(30),\n",
    "                                       transforms.RandomResizedCrop(224),\n",
    "                                       transforms.RandomHorizontalFlip(),\n",
    "                                       transforms.ToTensor()])\n",
    "\n",
    "test_transforms = transforms.Compose([ transforms.Resize(255),\n",
    "                                       transforms.CenterCrop(224),\n",
    "                                       transforms.ToTensor()])\n",
    "\n",
    "normalize = transforms.Normalize(mean=mean, std=std)"
   ]
  },
  {
   "cell_type": "code",
   "execution_count": 4,
   "id": "06829670",
   "metadata": {
    "execution": {
     "iopub.execute_input": "2024-04-30T12:35:16.555768Z",
     "iopub.status.busy": "2024-04-30T12:35:16.555248Z",
     "iopub.status.idle": "2024-04-30T12:35:16.567146Z",
     "shell.execute_reply": "2024-04-30T12:35:16.566217Z"
    },
    "papermill": {
     "duration": 0.022529,
     "end_time": "2024-04-30T12:35:16.569691",
     "exception": false,
     "start_time": "2024-04-30T12:35:16.547162",
     "status": "completed"
    },
    "tags": []
   },
   "outputs": [],
   "source": [
    "class CassavaDataset(Dataset):\n",
    "    def __init__(self, path, transform=None):\n",
    "        self.classes = os.listdir(path)\n",
    "        self.path = [f\"{path}/{className}\" for className in self.classes]\n",
    "        self.file_list = [glob.glob(f\"{x}/*\") for x in self.path]\n",
    "        self.transform = transform\n",
    "\n",
    "        files = []\n",
    "        for i, className in enumerate(self.classes):\n",
    "            for fileName in self.file_list[i]:\n",
    "                files.append([i, className, fileName])\n",
    "        self.file_list = files\n",
    "        files = None\n",
    "\n",
    "    def __len__(self):\n",
    "        return len(self.file_list)\n",
    "\n",
    "    def __getitem__(self, idx):\n",
    "        fileName = self.file_list[idx][2]\n",
    "        classCategory = self.file_list[idx][0]\n",
    "        im = Image.open(fileName)\n",
    "        if self.transform:\n",
    "            im = self.transform(im)\n",
    "            \n",
    "        return im.view(3, 224, 224), classCategory"
   ]
  },
  {
   "cell_type": "code",
   "execution_count": 5,
   "id": "a755ef0e",
   "metadata": {
    "execution": {
     "iopub.execute_input": "2024-04-30T12:35:16.586009Z",
     "iopub.status.busy": "2024-04-30T12:35:16.584612Z",
     "iopub.status.idle": "2024-04-30T12:35:17.035713Z",
     "shell.execute_reply": "2024-04-30T12:35:17.033499Z"
    },
    "papermill": {
     "duration": 0.461985,
     "end_time": "2024-04-30T12:35:17.038476",
     "exception": true,
     "start_time": "2024-04-30T12:35:16.576491",
     "status": "failed"
    },
    "tags": []
   },
   "outputs": [
    {
     "ename": "FileNotFoundError",
     "evalue": "[Errno 2] No such file or directory: '../input/ammi-2021-convnets/train/train'",
     "output_type": "error",
     "traceback": [
      "\u001b[0;31m---------------------------------------------------------------------------\u001b[0m",
      "\u001b[0;31mFileNotFoundError\u001b[0m                         Traceback (most recent call last)",
      "Cell \u001b[0;32mIn[5], line 1\u001b[0m\n\u001b[0;32m----> 1\u001b[0m train_data \u001b[38;5;241m=\u001b[39m \u001b[43mCassavaDataset\u001b[49m\u001b[43m(\u001b[49m\u001b[43mtrain_path\u001b[49m\u001b[43m,\u001b[49m\u001b[43m \u001b[49m\u001b[43mtransform\u001b[49m\u001b[38;5;241;43m=\u001b[39;49m\u001b[43mtrain_transforms\u001b[49m\u001b[43m)\u001b[49m\n\u001b[1;32m      2\u001b[0m test_data \u001b[38;5;241m=\u001b[39m CassavaDataset(test_path, transform\u001b[38;5;241m=\u001b[39mtest_transforms)\n",
      "Cell \u001b[0;32mIn[4], line 3\u001b[0m, in \u001b[0;36mCassavaDataset.__init__\u001b[0;34m(self, path, transform)\u001b[0m\n\u001b[1;32m      2\u001b[0m \u001b[38;5;28;01mdef\u001b[39;00m \u001b[38;5;21m__init__\u001b[39m(\u001b[38;5;28mself\u001b[39m, path, transform\u001b[38;5;241m=\u001b[39m\u001b[38;5;28;01mNone\u001b[39;00m):\n\u001b[0;32m----> 3\u001b[0m     \u001b[38;5;28mself\u001b[39m\u001b[38;5;241m.\u001b[39mclasses \u001b[38;5;241m=\u001b[39m \u001b[43mos\u001b[49m\u001b[38;5;241;43m.\u001b[39;49m\u001b[43mlistdir\u001b[49m\u001b[43m(\u001b[49m\u001b[43mpath\u001b[49m\u001b[43m)\u001b[49m\n\u001b[1;32m      4\u001b[0m     \u001b[38;5;28mself\u001b[39m\u001b[38;5;241m.\u001b[39mpath \u001b[38;5;241m=\u001b[39m [\u001b[38;5;124mf\u001b[39m\u001b[38;5;124m\"\u001b[39m\u001b[38;5;132;01m{\u001b[39;00mpath\u001b[38;5;132;01m}\u001b[39;00m\u001b[38;5;124m/\u001b[39m\u001b[38;5;132;01m{\u001b[39;00mclassName\u001b[38;5;132;01m}\u001b[39;00m\u001b[38;5;124m\"\u001b[39m \u001b[38;5;28;01mfor\u001b[39;00m className \u001b[38;5;129;01min\u001b[39;00m \u001b[38;5;28mself\u001b[39m\u001b[38;5;241m.\u001b[39mclasses]\n\u001b[1;32m      5\u001b[0m     \u001b[38;5;28mself\u001b[39m\u001b[38;5;241m.\u001b[39mfile_list \u001b[38;5;241m=\u001b[39m [glob\u001b[38;5;241m.\u001b[39mglob(\u001b[38;5;124mf\u001b[39m\u001b[38;5;124m\"\u001b[39m\u001b[38;5;132;01m{\u001b[39;00mx\u001b[38;5;132;01m}\u001b[39;00m\u001b[38;5;124m/*\u001b[39m\u001b[38;5;124m\"\u001b[39m) \u001b[38;5;28;01mfor\u001b[39;00m x \u001b[38;5;129;01min\u001b[39;00m \u001b[38;5;28mself\u001b[39m\u001b[38;5;241m.\u001b[39mpath]\n",
      "\u001b[0;31mFileNotFoundError\u001b[0m: [Errno 2] No such file or directory: '../input/ammi-2021-convnets/train/train'"
     ]
    }
   ],
   "source": [
    "train_data = CassavaDataset(train_path, transform=train_transforms)\n",
    "test_data = CassavaDataset(test_path, transform=test_transforms)"
   ]
  },
  {
   "cell_type": "code",
   "execution_count": null,
   "id": "650200d7",
   "metadata": {
    "execution": {
     "iopub.execute_input": "2021-03-29T11:50:49.291431Z",
     "iopub.status.busy": "2021-03-29T11:50:49.290391Z",
     "iopub.status.idle": "2021-03-29T11:50:49.293477Z",
     "shell.execute_reply": "2021-03-29T11:50:49.292843Z"
    },
    "papermill": {
     "duration": null,
     "end_time": null,
     "exception": null,
     "start_time": null,
     "status": "pending"
    },
    "tags": []
   },
   "outputs": [],
   "source": [
    "validation_split = .2\n",
    "shuffle_dataset = True\n",
    "random_seed= 42\n",
    "\n",
    "# Creating data indices for training and validation splits:\n",
    "dataset_size = len(train_data)\n",
    "indices = list(range(dataset_size))\n",
    "split = int(np.floor(validation_split * dataset_size))\n",
    "\n",
    "if shuffle_dataset :\n",
    "    np.random.seed(random_seed)\n",
    "    np.random.shuffle(indices)\n",
    "\n",
    "train_indices, val_indices = indices[split:], indices[:split]"
   ]
  },
  {
   "cell_type": "code",
   "execution_count": null,
   "id": "84509656",
   "metadata": {
    "execution": {
     "iopub.execute_input": "2021-03-29T11:50:49.323640Z",
     "iopub.status.busy": "2021-03-29T11:50:49.322961Z",
     "iopub.status.idle": "2021-03-29T11:50:49.326483Z",
     "shell.execute_reply": "2021-03-29T11:50:49.327032Z"
    },
    "papermill": {
     "duration": null,
     "end_time": null,
     "exception": null,
     "start_time": null,
     "status": "pending"
    },
    "tags": []
   },
   "outputs": [],
   "source": [
    "# Creating PT data samplers and loaders:\n",
    "train_sampler = SubsetRandomSampler(train_indices)\n",
    "valid_sampler = SubsetRandomSampler(val_indices)\n",
    "\n",
    "\n",
    "train_loader = torch.utils.data.DataLoader(train_data, batch_size=32,\n",
    "                                             sampler=train_sampler)\n",
    "valid_loader = torch.utils.data.DataLoader(train_data, batch_size=32,\n",
    "                                             sampler=valid_sampler)\n",
    "test_loader = torch.utils.data.DataLoader(test_data, batch_size=32)"
   ]
  },
  {
   "cell_type": "code",
   "execution_count": null,
   "id": "cf3bb9bf",
   "metadata": {
    "execution": {
     "iopub.execute_input": "2021-03-29T11:50:49.356639Z",
     "iopub.status.busy": "2021-03-29T11:50:49.355943Z",
     "iopub.status.idle": "2021-03-29T11:50:49.359522Z",
     "shell.execute_reply": "2021-03-29T11:50:49.360085Z"
    },
    "papermill": {
     "duration": null,
     "end_time": null,
     "exception": null,
     "start_time": null,
     "status": "pending"
    },
    "tags": []
   },
   "outputs": [],
   "source": [
    "# Device configuration\n",
    "device = torch.device('cuda:0' if torch.cuda.is_available() else 'cpu')"
   ]
  },
  {
   "cell_type": "code",
   "execution_count": null,
   "id": "c92dfe6d",
   "metadata": {
    "execution": {
     "iopub.execute_input": "2021-03-29T11:50:49.396116Z",
     "iopub.status.busy": "2021-03-29T11:50:49.395422Z",
     "iopub.status.idle": "2021-03-29T11:50:49.428700Z",
     "shell.execute_reply": "2021-03-29T11:50:49.428001Z"
    },
    "papermill": {
     "duration": null,
     "end_time": null,
     "exception": null,
     "start_time": null,
     "status": "pending"
    },
    "tags": []
   },
   "outputs": [],
   "source": [
    "# Define Models \n",
    "\n",
    "class Classifier(nn.Module):\n",
    "    def __init__(self, num_classes):\n",
    "        super(Classifier, self).__init__()\n",
    "        # Block 1\n",
    "        self.conv1 = nn.Conv2d(in_channels = 3, out_channels = 32, kernel_size = 5, stride = 2, padding = 1)\n",
    "        self.relu1 = nn.ReLU()\n",
    "        self.maxpool1 = nn.MaxPool2d(kernel_size = 2)\n",
    "\n",
    "        #Block 2\n",
    "        self.conv2 = nn.Conv2d(in_channels = 32, out_channels = 64, kernel_size = 5, stride = 2)\n",
    "        self.relu2 = nn.ReLU()\n",
    "        self.maxpool2 = nn.MaxPool2d(kernel_size=2)\n",
    "\n",
    "        #Block 3\n",
    "        self.conv3 = nn.Conv2d(in_channels = 64, out_channels = 32, kernel_size = 3, stride = 2)\n",
    "        self.relu3 = nn.ReLU()\n",
    "        self.maxpool3 = nn.MaxPool2d(kernel_size=2)\n",
    "\n",
    "        # last fully-connected layer\n",
    "        self.fc = nn.Linear(32*3*3, num_classes)\n",
    "\n",
    "\n",
    "    def forward(self, input):\n",
    "\n",
    "        x = self.maxpool1(self.relu1(self.conv1(input)))\n",
    "        x = self.maxpool2(self.relu2(self.conv2(x)))\n",
    "        x = self.maxpool3(self.relu3(self.conv3(x)))\n",
    "\n",
    "        x = x.view(x.size(0), -1)\n",
    "        x = self.fc(x)\n",
    "        return x\n",
    "\n",
    "\n",
    "model = Classifier(5)"
   ]
  },
  {
   "cell_type": "code",
   "execution_count": null,
   "id": "b362a09f",
   "metadata": {
    "execution": {
     "iopub.execute_input": "2021-03-29T11:50:49.458735Z",
     "iopub.status.busy": "2021-03-29T11:50:49.457972Z",
     "iopub.status.idle": "2021-03-29T11:50:49.461960Z",
     "shell.execute_reply": "2021-03-29T11:50:49.461357Z"
    },
    "papermill": {
     "duration": null,
     "end_time": null,
     "exception": null,
     "start_time": null,
     "status": "pending"
    },
    "tags": []
   },
   "outputs": [],
   "source": [
    "criterion = torch.nn.CrossEntropyLoss()\n",
    "optimizer = torch.optim.SGD(model.parameters(), lr=1e-2)"
   ]
  },
  {
   "cell_type": "code",
   "execution_count": null,
   "id": "f21abcb4",
   "metadata": {
    "execution": {
     "iopub.execute_input": "2021-03-29T11:50:49.496069Z",
     "iopub.status.busy": "2021-03-29T11:50:49.495310Z",
     "iopub.status.idle": "2021-03-29T11:50:49.499172Z",
     "shell.execute_reply": "2021-03-29T11:50:49.498453Z"
    },
    "papermill": {
     "duration": null,
     "end_time": null,
     "exception": null,
     "start_time": null,
     "status": "pending"
    },
    "tags": []
   },
   "outputs": [],
   "source": [
    "def train(model, criterion, data_loader, optimizer, num_epochs):\n",
    "    \"\"\"Simple training loop for a PyTorch model.\"\"\" \n",
    "    \n",
    "    # Make sure model is in training mode.\n",
    "    model.train()\n",
    "    \n",
    "    # Move model to the device (CPU or GPU).\n",
    "    model.to(device)\n",
    "    \n",
    "    # Exponential moving average of the loss.\n",
    "    ema_loss = None\n",
    "\n",
    "    print('----- Training Loop -----')\n",
    "    # Loop over epochs.\n",
    "    for epoch in range(num_epochs):\n",
    "        \n",
    "      # Loop over data.\n",
    "      for batch_idx, (features, target) in enumerate(data_loader):\n",
    "            \n",
    "          # Forward pass.\n",
    "        output = model(features.to(device))\n",
    "        loss = criterion(output.to(device), target.to(device))\n",
    "\n",
    "          # Backward pass.\n",
    "        optimizer.zero_grad()\n",
    "        loss.backward()\n",
    "        optimizer.step()\n",
    "\n",
    "      # NOTE: It is important to call .item() on the loss before summing.\n",
    "        if ema_loss is None:\n",
    "            ema_loss = loss.item()\n",
    "        else:\n",
    "            ema_loss += (loss.item() - ema_loss) * 0.01 \n",
    "\n",
    "      # Print out progress the end of epoch.\n",
    "      print('Epoch: {} \\tLoss: {:.6f}'.format(epoch, ema_loss),)\n",
    "  "
   ]
  },
  {
   "cell_type": "code",
   "execution_count": null,
   "id": "e5101053",
   "metadata": {
    "execution": {
     "iopub.execute_input": "2021-03-29T11:50:49.532699Z",
     "iopub.status.busy": "2021-03-29T11:50:49.531985Z",
     "iopub.status.idle": "2021-03-29T11:50:49.536002Z",
     "shell.execute_reply": "2021-03-29T11:50:49.535353Z"
    },
    "papermill": {
     "duration": null,
     "end_time": null,
     "exception": null,
     "start_time": null,
     "status": "pending"
    },
    "tags": []
   },
   "outputs": [],
   "source": [
    "def test(model, data_loader):\n",
    "    \"\"\"Measures the accuracy of a model on a data set.\"\"\" \n",
    "    # Make sure the model is in evaluation mode.\n",
    "    model.eval()\n",
    "    correct = 0\n",
    "    print('----- Model Evaluation -----')\n",
    "    # We do not need to maintain intermediate activations while testing.\n",
    "    with torch.no_grad():\n",
    "        \n",
    "        # Loop over test data.\n",
    "        for features, target in data_loader:\n",
    "          \n",
    "            # Forward pass.\n",
    "            output = model(features.to(device))\n",
    "            \n",
    "            # Get the label corresponding to the highest predicted probability.\n",
    "            pred = output.argmax(dim=1, keepdim=True)\n",
    "            \n",
    "            # Count number of correct predictions.\n",
    "            correct += pred.cpu().eq(target.view_as(pred)).sum().item()\n",
    "\n",
    "    # Print test accuracy.\n",
    "    percent = 100. * correct / len(data_loader.dataset)\n",
    "    print(f'Test accuracy: {correct} / {len(data_loader.dataset)} ({percent:.0f}%)')\n",
    "    torch.save(model.state_dict(), 'model.ckpt')\n",
    "    return percent"
   ]
  },
  {
   "cell_type": "code",
   "execution_count": null,
   "id": "d032bf01",
   "metadata": {
    "execution": {
     "iopub.execute_input": "2021-03-29T11:50:49.567361Z",
     "iopub.status.busy": "2021-03-29T11:50:49.566686Z",
     "iopub.status.idle": "2021-03-29T12:00:25.476410Z",
     "shell.execute_reply": "2021-03-29T12:00:25.475689Z"
    },
    "papermill": {
     "duration": null,
     "end_time": null,
     "exception": null,
     "start_time": null,
     "status": "pending"
    },
    "tags": []
   },
   "outputs": [],
   "source": [
    "num_epochs = 5\n",
    "train(model, criterion, train_loader, optimizer, num_epochs=num_epochs)\n",
    "test(model, valid_loader)"
   ]
  },
  {
   "cell_type": "code",
   "execution_count": null,
   "id": "e39642ef",
   "metadata": {
    "execution": {
     "iopub.execute_input": "2021-03-29T12:00:25.513240Z",
     "iopub.status.busy": "2021-03-29T12:00:25.512426Z",
     "iopub.status.idle": "2021-03-29T12:00:25.515568Z",
     "shell.execute_reply": "2021-03-29T12:00:25.516089Z"
    },
    "papermill": {
     "duration": null,
     "end_time": null,
     "exception": null,
     "start_time": null,
     "status": "pending"
    },
    "tags": []
   },
   "outputs": [],
   "source": [
    "# test(model, test_loader)"
   ]
  },
  {
   "cell_type": "code",
   "execution_count": null,
   "id": "b112b91e",
   "metadata": {
    "execution": {
     "iopub.execute_input": "2021-03-29T12:00:25.551080Z",
     "iopub.status.busy": "2021-03-29T12:00:25.550375Z",
     "iopub.status.idle": "2021-03-29T12:00:25.554499Z",
     "shell.execute_reply": "2021-03-29T12:00:25.553846Z"
    },
    "papermill": {
     "duration": null,
     "end_time": null,
     "exception": null,
     "start_time": null,
     "status": "pending"
    },
    "tags": []
   },
   "outputs": [],
   "source": [
    "# Make submission here"
   ]
  },
  {
   "cell_type": "code",
   "execution_count": null,
   "id": "7d8039a4",
   "metadata": {
    "papermill": {
     "duration": null,
     "end_time": null,
     "exception": null,
     "start_time": null,
     "status": "pending"
    },
    "tags": []
   },
   "outputs": [],
   "source": []
  }
 ],
 "metadata": {
  "kaggle": {
   "accelerator": "none",
   "dataSources": [
    {
     "databundleVersionId": 8400328,
     "sourceId": 77142,
     "sourceType": "competition"
    }
   ],
   "isGpuEnabled": false,
   "isInternetEnabled": true,
   "language": "python",
   "sourceType": "notebook"
  },
  "kernelspec": {
   "display_name": "Python 3",
   "language": "python",
   "name": "python3"
  },
  "language_info": {
   "codemirror_mode": {
    "name": "ipython",
    "version": 3
   },
   "file_extension": ".py",
   "mimetype": "text/x-python",
   "name": "python",
   "nbconvert_exporter": "python",
   "pygments_lexer": "ipython3",
   "version": "3.10.13"
  },
  "papermill": {
   "default_parameters": {},
   "duration": 13.207064,
   "end_time": "2024-04-30T12:35:18.672226",
   "environment_variables": {},
   "exception": true,
   "input_path": "__notebook__.ipynb",
   "output_path": "__notebook__.ipynb",
   "parameters": {},
   "start_time": "2024-04-30T12:35:05.465162",
   "version": "2.2.2"
  }
 },
 "nbformat": 4,
 "nbformat_minor": 5
}
